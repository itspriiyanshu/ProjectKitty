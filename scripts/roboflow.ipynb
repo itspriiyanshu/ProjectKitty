{
 "cells": [
  {
   "cell_type": "code",
   "execution_count": 1,
   "id": "3cde4985-69ad-414a-a439-7b80b05fea97",
   "metadata": {},
   "outputs": [
    {
     "name": "stdout",
     "output_type": "stream",
     "text": [
      "Collecting roboflow\n",
      "  Downloading roboflow-1.1.64-py3-none-any.whl (85 kB)\n",
      "\u001b[2K     \u001b[38;2;114;156;31m━━━━━━━━━━━━━━━━━━━━━━━━━━━━━━━━━━━━━━━━\u001b[0m \u001b[32m85.4/85.4 kB\u001b[0m \u001b[31m1.5 MB/s\u001b[0m eta \u001b[36m0:00:00\u001b[0m MB/s\u001b[0m eta \u001b[36m0:00:01\u001b[0m\n",
      "\u001b[?25hCollecting opencv-python-headless==4.10.0.84\n",
      "  Downloading opencv_python_headless-4.10.0.84-cp37-abi3-manylinux_2_17_x86_64.manylinux2014_x86_64.whl (49.9 MB)\n",
      "\u001b[2K     \u001b[38;2;114;156;31m━━━━━━━━━━━━━━━━━━━━━━━━━━━━━━━━━━━━━━━━\u001b[0m \u001b[32m49.9/49.9 MB\u001b[0m \u001b[31m1.9 MB/s\u001b[0m eta \u001b[36m0:00:00\u001b[0mm eta \u001b[36m0:00:01\u001b[0m[36m0:00:01\u001b[0m\n",
      "\u001b[?25hRequirement already satisfied: PyYAML>=5.3.1 in /home/itspriiyanshu/Desktop/project_kitty/venv/lib/python3.10/site-packages (from roboflow) (6.0.2)\n",
      "Requirement already satisfied: python-dateutil in /home/itspriiyanshu/Desktop/project_kitty/venv/lib/python3.10/site-packages (from roboflow) (2.9.0.post0)\n",
      "Requirement already satisfied: certifi in /home/itspriiyanshu/Desktop/project_kitty/venv/lib/python3.10/site-packages (from roboflow) (2025.4.26)\n",
      "Collecting pillow-heif>=0.18.0\n",
      "  Downloading pillow_heif-0.22.0-cp310-cp310-manylinux_2_17_x86_64.manylinux2014_x86_64.whl (7.8 MB)\n",
      "\u001b[2K     \u001b[38;2;114;156;31m━━━━━━━━━━━━━━━━━━━━━━━━━━━━━━━━━━━━━━━━\u001b[0m \u001b[32m7.8/7.8 MB\u001b[0m \u001b[31m1.9 MB/s\u001b[0m eta \u001b[36m0:00:00\u001b[0mm eta \u001b[36m0:00:01\u001b[0m[36m0:00:01\u001b[0m0m\n",
      "\u001b[?25hRequirement already satisfied: six in /home/itspriiyanshu/Desktop/project_kitty/venv/lib/python3.10/site-packages (from roboflow) (1.17.0)\n",
      "Requirement already satisfied: tqdm>=4.41.0 in /home/itspriiyanshu/Desktop/project_kitty/venv/lib/python3.10/site-packages (from roboflow) (4.67.1)\n",
      "Collecting idna==3.7\n",
      "  Downloading idna-3.7-py3-none-any.whl (66 kB)\n",
      "\u001b[2K     \u001b[38;2;114;156;31m━━━━━━━━━━━━━━━━━━━━━━━━━━━━━━━━━━━━━━━━\u001b[0m \u001b[32m66.8/66.8 kB\u001b[0m \u001b[31m1.4 MB/s\u001b[0m eta \u001b[36m0:00:00\u001b[0m0m eta \u001b[36m-:--:--\u001b[0m\n",
      "\u001b[?25hRequirement already satisfied: matplotlib in /home/itspriiyanshu/Desktop/project_kitty/venv/lib/python3.10/site-packages (from roboflow) (3.10.3)\n",
      "Requirement already satisfied: Pillow>=7.1.2 in /home/itspriiyanshu/Desktop/project_kitty/venv/lib/python3.10/site-packages (from roboflow) (10.4.0)\n",
      "Collecting requests-toolbelt\n",
      "  Downloading requests_toolbelt-1.0.0-py2.py3-none-any.whl (54 kB)\n",
      "\u001b[2K     \u001b[38;2;114;156;31m━━━━━━━━━━━━━━━━━━━━━━━━━━━━━━━━━━━━━━━\u001b[0m \u001b[32m54.5/54.5 kB\u001b[0m \u001b[31m862.9 kB/s\u001b[0m eta \u001b[36m0:00:00\u001b[0m1m135.6 MB/s\u001b[0m eta \u001b[36m0:00:01\u001b[0m\n",
      "\u001b[?25hRequirement already satisfied: cycler in /home/itspriiyanshu/Desktop/project_kitty/venv/lib/python3.10/site-packages (from roboflow) (0.12.1)\n",
      "Requirement already satisfied: numpy>=1.18.5 in /home/itspriiyanshu/Desktop/project_kitty/venv/lib/python3.10/site-packages (from roboflow) (1.26.4)\n",
      "Requirement already satisfied: python-dotenv in /home/itspriiyanshu/Desktop/project_kitty/venv/lib/python3.10/site-packages (from roboflow) (1.1.0)\n",
      "Requirement already satisfied: kiwisolver>=1.3.1 in /home/itspriiyanshu/Desktop/project_kitty/venv/lib/python3.10/site-packages (from roboflow) (1.4.8)\n",
      "Requirement already satisfied: urllib3>=1.26.6 in /home/itspriiyanshu/Desktop/project_kitty/venv/lib/python3.10/site-packages (from roboflow) (2.4.0)\n",
      "Collecting filetype\n",
      "  Downloading filetype-1.2.0-py2.py3-none-any.whl (19 kB)\n",
      "Requirement already satisfied: requests in /home/itspriiyanshu/Desktop/project_kitty/venv/lib/python3.10/site-packages (from roboflow) (2.32.3)\n",
      "Requirement already satisfied: fonttools>=4.22.0 in /home/itspriiyanshu/Desktop/project_kitty/venv/lib/python3.10/site-packages (from matplotlib->roboflow) (4.58.0)\n",
      "Requirement already satisfied: packaging>=20.0 in /home/itspriiyanshu/Desktop/project_kitty/venv/lib/python3.10/site-packages (from matplotlib->roboflow) (25.0)\n",
      "Requirement already satisfied: contourpy>=1.0.1 in /home/itspriiyanshu/Desktop/project_kitty/venv/lib/python3.10/site-packages (from matplotlib->roboflow) (1.3.2)\n",
      "Requirement already satisfied: pyparsing>=2.3.1 in /home/itspriiyanshu/Desktop/project_kitty/venv/lib/python3.10/site-packages (from matplotlib->roboflow) (3.2.3)\n",
      "Requirement already satisfied: charset-normalizer<4,>=2 in /home/itspriiyanshu/Desktop/project_kitty/venv/lib/python3.10/site-packages (from requests->roboflow) (3.4.2)\n",
      "Installing collected packages: filetype, pillow-heif, opencv-python-headless, idna, requests-toolbelt, roboflow\n",
      "  Attempting uninstall: idna\n",
      "    Found existing installation: idna 3.10\n",
      "    Uninstalling idna-3.10:\n",
      "      Successfully uninstalled idna-3.10\n",
      "\u001b[31mERROR: pip's dependency resolver does not currently take into account all the packages that are installed. This behaviour is the source of the following dependency conflicts.\n",
      "flwr 1.18.0 requires protobuf<5.0.0,>=4.21.6, but you have protobuf 5.29.4 which is incompatible.\u001b[0m\u001b[31m\n",
      "\u001b[0mSuccessfully installed filetype-1.2.0 idna-3.7 opencv-python-headless-4.10.0.84 pillow-heif-0.22.0 requests-toolbelt-1.0.0 roboflow-1.1.64\n",
      "\u001b[33mWARNING: There was an error checking the latest version of pip.\u001b[0m\u001b[33m\n",
      "loading Roboflow workspace...\n",
      "loading Roboflow project...\n"
     ]
    },
    {
     "name": "stderr",
     "output_type": "stream",
     "text": [
      "Downloading Dataset Version Zip in Bowler-Detection-1 to yolov8:: 100%|███████████████████| 73877/73877 [00:25<00:00, 2901.24it/s]"
     ]
    },
    {
     "name": "stdout",
     "output_type": "stream",
     "text": [
      "\n"
     ]
    },
    {
     "name": "stderr",
     "output_type": "stream",
     "text": [
      "\n",
      "Extracting Dataset Version Zip to Bowler-Detection-1 in yolov8:: 100%|█████████████████████| 3072/3072 [00:00<00:00, 15135.92it/s]\n"
     ]
    }
   ],
   "source": [
    "!pip install roboflow\n",
    "\n",
    "from roboflow import Roboflow\n",
    "rf = Roboflow(api_key=\"q8J5PbeJXsQGoipg2Hf7\")\n",
    "project = rf.workspace(\"cricket-nlp\").project(\"bowler-detection\")\n",
    "version = project.version(1)\n",
    "dataset = version.download(\"yolov8\")"
   ]
  }
 ],
 "metadata": {
  "kernelspec": {
   "display_name": "Python 3 (ipykernel)",
   "language": "python",
   "name": "python3"
  },
  "language_info": {
   "codemirror_mode": {
    "name": "ipython",
    "version": 3
   },
   "file_extension": ".py",
   "mimetype": "text/x-python",
   "name": "python",
   "nbconvert_exporter": "python",
   "pygments_lexer": "ipython3",
   "version": "3.10.11"
  }
 },
 "nbformat": 4,
 "nbformat_minor": 5
}
